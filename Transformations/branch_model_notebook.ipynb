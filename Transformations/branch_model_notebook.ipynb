{
 "cells": [
  {
   "cell_type": "markdown",
   "metadata": {
    "application/vnd.databricks.v1+cell": {
     "cellMetadata": {
      "byteLimit": 2048000,
      "rowLimit": 10000
     },
     "inputWidgets": {},
     "nuid": "8e9ebf3c-a5b7-4103-9ac2-9e15fb092f76",
     "showTitle": false,
     "tableResultSettingsMap": {},
     "title": ""
    }
   },
   "source": [
    "## Let's create Dimensional model table out of big table as 'dim_branch'"
   ]
  },
  {
   "cell_type": "code",
   "execution_count": 0,
   "metadata": {
    "application/vnd.databricks.v1+cell": {
     "cellMetadata": {
      "byteLimit": 2048000,
      "rowLimit": 10000
     },
     "inputWidgets": {},
     "nuid": "60c79007-330b-45b5-b66d-e00d74e58b13",
     "showTitle": false,
     "tableResultSettingsMap": {},
     "title": ""
    }
   },
   "outputs": [],
   "source": [
    "from pyspark.sql.functions import col, monotonically_increasing_id\n",
    "from delta.tables import DeltaTable"
   ]
  },
  {
   "cell_type": "code",
   "execution_count": 0,
   "metadata": {
    "application/vnd.databricks.v1+cell": {
     "cellMetadata": {
      "byteLimit": 2048000,
      "implicitDf": true,
      "rowLimit": 10000
     },
     "inputWidgets": {},
     "nuid": "6cf6ae41-4546-40e4-bcea-921ebd8674bb",
     "showTitle": true,
     "tableResultSettingsMap": {},
     "title": "Read the Data from silver Container"
    }
   },
   "outputs": [],
   "source": [
    "%sql\n",
    "select * from delta.`abfss://silver@projectandstorage.dfs.core.windows.net/carsales`"
   ]
  },
  {
   "cell_type": "code",
   "execution_count": 0,
   "metadata": {
    "application/vnd.databricks.v1+cell": {
     "cellMetadata": {
      "byteLimit": 2048000,
      "implicitDf": true,
      "rowLimit": 10000
     },
     "inputWidgets": {},
     "nuid": "f3637220-d9d0-4e60-a49e-7429695415d4",
     "showTitle": true,
     "tableResultSettingsMap": {},
     "title": "create  Dimensional model"
    }
   },
   "outputs": [],
   "source": [
    "# create  Dimensional table out of big table\n",
    "df_src = spark.sql(\"\"\"\n",
    "                   select distinct(Branch_ID)as Branch_ID, BranchName \n",
    "                  from delta.`abfss://silver@projectandstorage.dfs.core.windows.net/carsales`\n",
    "                  \"\"\")\n",
    "\n",
    "df_src.show()"
   ]
  },
  {
   "cell_type": "code",
   "execution_count": 0,
   "metadata": {
    "application/vnd.databricks.v1+cell": {
     "cellMetadata": {
      "byteLimit": 2048000,
      "implicitDf": true,
      "rowLimit": 10000
     },
     "inputWidgets": {},
     "nuid": "7c3edfd7-2fea-46e4-9ab9-cf0a954503f9",
     "showTitle": true,
     "tableResultSettingsMap": {},
     "title": "Schema of the table"
    }
   },
   "outputs": [],
   "source": [
    "# Lets creat the schema of the table for dim_brach table\n",
    "df_sink = spark.sql('''\n",
    "select 1 as dim_branch_key, Branch_ID, BranchName\n",
    "from delta.`abfss://silver@projectandstorage.dfs.core.windows.net/carsales`\n",
    "where 1=0''')\n",
    "\n",
    "df_sink.show()"
   ]
  },
  {
   "cell_type": "code",
   "execution_count": 0,
   "metadata": {
    "application/vnd.databricks.v1+cell": {
     "cellMetadata": {
      "byteLimit": 2048000,
      "rowLimit": 10000
     },
     "inputWidgets": {},
     "nuid": "0f45887b-3561-4aef-8938-00075ca031ea",
     "showTitle": false,
     "tableResultSettingsMap": {},
     "title": ""
    }
   },
   "outputs": [],
   "source": [
    "if spark.catalog.tableExists(\"catalog_for_sale.gold_schema.dim_brach\"):\n",
    "    # incremantal load(dont create the new table in next round)\n",
    "    df_sink = spark.sql(\"\"\"\n",
    "                        select dim_branch_key, Branch_ID, BranchName\n",
    "                        from catalog_for_sale.gold_schema.dim_branch\n",
    "                        \"\"\")\n",
    "else:\n",
    "    # initial load (creating a new dim model Table)\n",
    "    df_sink= spark.sql(\"\"\"\n",
    "                       select 1 as  dim_branch_key, Branch_ID, BranchName\n",
    "                       from delta.`abfss://silver@projectandstorage.dfs.core.windows.net/carsales`\n",
    "                       where 1=0\n",
    "                       \"\"\")"
   ]
  },
  {
   "cell_type": "code",
   "execution_count": 0,
   "metadata": {
    "application/vnd.databricks.v1+cell": {
     "cellMetadata": {
      "byteLimit": 2048000,
      "rowLimit": 10000
     },
     "inputWidgets": {},
     "nuid": "e7aa3b70-e5df-4644-8385-1a02275eca7e",
     "showTitle": true,
     "tableResultSettingsMap": {},
     "title": "where are the records"
    }
   },
   "outputs": [],
   "source": [
    "# As of now Our dim_brach table is empty, lets join the two tables and see what we get\n",
    "df_filter = df_src.join(df_sink,on=df_src[\"Branch_ID\"]== df_sink[\"Branch_ID\"], how=\"Left\")\\\n",
    "            .select(df_src[\"Branch_ID\"], df_src[\"BranchName\"], df_sink[\"dim_branch_key\"])"
   ]
  },
  {
   "cell_type": "code",
   "execution_count": 0,
   "metadata": {
    "application/vnd.databricks.v1+cell": {
     "cellMetadata": {
      "byteLimit": 2048000,
      "rowLimit": 10000
     },
     "inputWidgets": {},
     "nuid": "3a349151-a5a6-4cc2-9fb7-b0050eb0aeae",
     "showTitle": true,
     "tableResultSettingsMap": {},
     "title": "How to assign Surrogate key"
    }
   },
   "outputs": [],
   "source": [
    "# select the records which have dim_brach_key (INCREMENTAL LOAD)\n",
    "df_filter_old = df_filter.filter(col(\"dim_branch_key\").isNotNull())\n",
    "df_filter_old.show()\n",
    "\n",
    "# selecting the new records, where dim_brach_key is not assigned(INTIAL LOAD)\n",
    "df_filter_new = df_filter.filter(col(\"dim_branch_key\").isNull())\\\n",
    "                .select(df_src[\"Branch_ID\"], df_src[\"BranchName\"])\n",
    "\n",
    "df_filter_new.show()    "
   ]
  },
  {
   "cell_type": "code",
   "execution_count": 0,
   "metadata": {
    "application/vnd.databricks.v1+cell": {
     "cellMetadata": {
      "byteLimit": 2048000,
      "rowLimit": 10000
     },
     "inputWidgets": {},
     "nuid": "8613f2fe-232f-4781-84df-9a6e2dde3dfc",
     "showTitle": true,
     "tableResultSettingsMap": {},
     "title": "what is the max_value"
    }
   },
   "outputs": [],
   "source": [
    "# Create the text widget\n",
    "dbutils.widgets.text(\"increamental_flag\", \"0\")\n",
    "\n",
    "# Use the retrieved widget value\n",
    "incremental_flag_value = dbutils.widgets.get(\"increamental_flag\")\n",
    "\n",
    "if incremental_flag_value == \"0\":\n",
    "    # Initial load\n",
    "    max_value = 1\n",
    "else:\n",
    "    # Incremental load\n",
    "    if spark._jsparkSession.catalog().tableExists(\"catalog_for_sales.gold_schema.dim_branch\"):\n",
    "        max_value = spark.sql(\"\"\"\n",
    "                              select max(dim_branch_key) from catalog_for_sales.gold_schema.dim_brach\n",
    "                              \"\"\").collect()[0][0] + 1\n",
    "    else:\n",
    "        raise Exception(\"Table catalog_for_sales.gold_schema.dim_branch does not exist.\")\n",
    "        \n",
    "print(f\"Max Value: {max_value}\")\n"
   ]
  },
  {
   "cell_type": "code",
   "execution_count": 0,
   "metadata": {
    "application/vnd.databricks.v1+cell": {
     "cellMetadata": {
      "byteLimit": 2048000,
      "rowLimit": 10000
     },
     "inputWidgets": {},
     "nuid": "d25f243e-c0ac-44bb-a816-a83dc903a17f",
     "showTitle": true,
     "tableResultSettingsMap": {},
     "title": "add the max_value into surrogate key"
    }
   },
   "outputs": [],
   "source": [
    "# create a surrogate key column in the newtable and add the max_value into\n",
    "df_filter_new = df_filter_new.withColumn(\"dim_branch_key\",max_value+monotonically_increasing_id())\n",
    "df_filter_new.show()\n",
    "\n",
    "# 277 records"
   ]
  },
  {
   "cell_type": "code",
   "execution_count": 0,
   "metadata": {
    "application/vnd.databricks.v1+cell": {
     "cellMetadata": {
      "byteLimit": 2048000,
      "rowLimit": 10000
     },
     "inputWidgets": {},
     "nuid": "6d710a55-968d-4e9d-b7e3-81867144e1a5",
     "showTitle": true,
     "tableResultSettingsMap": {},
     "title": "final dim_model table"
    }
   },
   "outputs": [],
   "source": [
    "# append/merge all the records into final table\n",
    "df_final= df_filter_new.union(df_filter_old)\n",
    "df_final.tail(5)\n",
    "\n",
    "# 277 records"
   ]
  },
  {
   "cell_type": "code",
   "execution_count": 0,
   "metadata": {
    "application/vnd.databricks.v1+cell": {
     "cellMetadata": {
      "byteLimit": 2048000,
      "rowLimit": 10000
     },
     "inputWidgets": {},
     "nuid": "3a5a3320-5a81-455b-b9bd-6cdf40c902bd",
     "showTitle": true,
     "tableResultSettingsMap": {},
     "title": "SCD Type-1 and load the table"
    }
   },
   "outputs": [],
   "source": [
    "if spark.catalog.tableExists(\"catalog_for_sale.gold_schema.dim_branch\"):\n",
    "    # increamental load\n",
    "    delta_table_obj = DeltaTable.forPath(spark, \"abfss://gold@projectandstorage.dfs.core.windows.net/dim_branch\")\n",
    "    delta_table_obj.alias(\"t\").merge(df_final.alias(\"s\"), \"t.dim_branch_key = s.dim_branch_key\")\\\n",
    "        .whenMatchedUpdateAll()\\\n",
    "        .whenNotMatchedInsertAll()\\\n",
    "        .execute()\n",
    "else:\n",
    "    # in the intaila load save the table\n",
    "    df_final.write.format('delta')\\\n",
    "                .mode('overwrite')\\\n",
    "                .option(\"path\",\"abfss://gold@projectandstorage.dfs.core.windows.net/dim_branch\")\\\n",
    "                .saveAsTable(\"catalog_for_sales.gold_schema.dim_branch\")"
   ]
  }
 ],
 "metadata": {
  "application/vnd.databricks.v1+notebook": {
   "computePreferences": null,
   "dashboards": [],
   "environmentMetadata": {
    "base_environment": "",
    "environment_version": "2"
   },
   "language": "python",
   "notebookMetadata": {
    "mostRecentlyExecutedCommandWithImplicitDF": {
     "commandId": 8429386153121548,
     "dataframes": [
      "_sqldf"
     ]
    },
    "pythonIndentUnit": 4
   },
   "notebookName": "branch_model_notebook",
   "widgets": {
    "increamental_flag": {
     "currentValue": "0",
     "nuid": "de6a5872-ba48-4621-8a70-84515a8db0ea",
     "typedWidgetInfo": {
      "autoCreated": false,
      "defaultValue": "0",
      "label": null,
      "name": "increamental_flag",
      "options": {
       "widgetDisplayType": "Text",
       "validationRegex": null
      },
      "parameterDataType": "String"
     },
     "widgetInfo": {
      "widgetType": "text",
      "defaultValue": "0",
      "label": null,
      "name": "increamental_flag",
      "options": {
       "widgetType": "text",
       "autoCreated": null,
       "validationRegex": null
      }
     }
    }
   }
  },
  "language_info": {
   "name": "python"
  }
 },
 "nbformat": 4,
 "nbformat_minor": 0
}
