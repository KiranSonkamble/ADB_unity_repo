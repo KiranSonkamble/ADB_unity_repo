{
 "cells": [
  {
   "cell_type": "code",
   "execution_count": 0,
   "metadata": {
    "application/vnd.databricks.v1+cell": {
     "cellMetadata": {
      "byteLimit": 2048000,
      "rowLimit": 10000
     },
     "inputWidgets": {},
     "nuid": "4fc92374-9eb1-4d82-bac6-fce62b35ed18",
     "showTitle": true,
     "tableResultSettingsMap": {},
     "title": "Import Libraries"
    }
   },
   "outputs": [],
   "source": [
    "from pyspark.sql.functions import col\n",
    "from delta.tables import DeltaTable\n"
   ]
  },
  {
   "cell_type": "code",
   "execution_count": 0,
   "metadata": {
    "application/vnd.databricks.v1+cell": {
     "cellMetadata": {
      "byteLimit": 2048000,
      "implicitDf": true,
      "rowLimit": 10000
     },
     "inputWidgets": {},
     "nuid": "081d58bf-02f4-4c7f-bb75-b9d1563659a8",
     "showTitle": true,
     "tableResultSettingsMap": {},
     "title": "load data from silver container"
    }
   },
   "outputs": [],
   "source": [
    "df_silver = spark.sql(\"SELECT * FROM delta.`abfss://silver@projectandstorage.dfs.core.windows.net/carsales`\")\n",
    "display(df_silver)"
   ]
  },
  {
   "cell_type": "code",
   "execution_count": 0,
   "metadata": {
    "application/vnd.databricks.v1+cell": {
     "cellMetadata": {
      "byteLimit": 2048000,
      "rowLimit": 10000
     },
     "inputWidgets": {},
     "nuid": "eea924dc-1fd1-499a-9e7a-e84b82803df7",
     "showTitle": true,
     "tableResultSettingsMap": {},
     "title": "create df's wrt dim's"
    }
   },
   "outputs": [],
   "source": [
    "df_dealer = spark.sql(\"SELECT * FROM catalog_for_sales.gold_schema.dim_dealer\")\n",
    "df_model = spark.sql(\"SELECT * FROM catalog_for_sales.gold_schema.dim_model\")   \n",
    "df_branch= spark.sql(\"select * from catalog_for_sales.gold_schema.dim_branch\")\n",
    "df_date = spark.sql(\"SELECT * FROM catalog_for_sales.gold_schema.dim_date\")\n"
   ]
  },
  {
   "cell_type": "code",
   "execution_count": 0,
   "metadata": {
    "application/vnd.databricks.v1+cell": {
     "cellMetadata": {
      "byteLimit": 2048000,
      "rowLimit": 10000
     },
     "inputWidgets": {},
     "nuid": "a5a5e43f-e295-4619-a2af-03fbd125cbe1",
     "showTitle": true,
     "tableResultSettingsMap": {},
     "title": "bring all the keys to  table"
    }
   },
   "outputs": [],
   "source": [
    "df_fact = df_silver.join(df_dealer, df_silver.Dealer_ID == df_dealer.Dealer_ID, how='left')\\\n",
    "            .join(df_branch, df_silver.Branch_ID == df_branch.Branch_ID, how='left')\\\n",
    "            .join(df_model, df_silver.Model_ID == df_model.Model_ID, how='left')\\\n",
    "            .join(df_date, df_silver.Date_ID == df_date.Date_ID, how='left')\\\n",
    "            .select(df_silver['Revenue'],df_silver['Units_Sold'],df_silver['RevperUnit'],df_branch[\"dim_branch_key\"],df_model[\"dim_model_key\"],df_dealer[\"dim_dealer_key\"],df_date[\"dim_date_key\"])"
   ]
  },
  {
   "cell_type": "code",
   "execution_count": 0,
   "metadata": {
    "application/vnd.databricks.v1+cell": {
     "cellMetadata": {
      "byteLimit": 2048000,
      "rowLimit": 10000
     },
     "inputWidgets": {},
     "nuid": "8589d9d3-4f23-47ba-a92e-af78bbe7a025",
     "showTitle": true,
     "tableResultSettingsMap": {},
     "title": "create a new fact_table"
    }
   },
   "outputs": [],
   "source": [
    "\n",
    "if spark.catalog.tableExists(\"catalog_for_sales.gold_schema.fact_model\"):\n",
    "    # Incremental load\n",
    "    delta_table_obj = DeltaTable.forName(spark, \"catalog_for_sales.gold_schema.fact_model\")\n",
    "    delta_table_obj.alias(\"t\").merge(\n",
    "        df_fact.alias(\"s\"),\n",
    "        \"t.dim_branch_key = s.dim_branch_key AND t.dim_model_key = s.dim_model_key AND t.dim_dealer_key = s.dim_dealer_key AND t.dim_date_key = s.dim_date_key\"\n",
    "    )\\\n",
    "    .whenMatchedUpdateAll()\\\n",
    "    .whenNotMatchedInsertAll()\\\n",
    "    .execute()\n",
    "else:\n",
    "    \n",
    "    df_fact.write.format('delta')\\\n",
    "                .mode('overwrite')\\\n",
    "                .option(\"path\",\"abfss://gold@projectandstorage.dfs.core.windows.net/fact_model\")\\\n",
    "                .saveAsTable(\"catalog_for_sales.gold_schema.fact_model\")"
   ]
  },
  {
   "cell_type": "code",
   "execution_count": 0,
   "metadata": {
    "application/vnd.databricks.v1+cell": {
     "cellMetadata": {
      "byteLimit": 2048000,
      "implicitDf": true,
      "rowLimit": 10000
     },
     "inputWidgets": {},
     "nuid": "84c013ad-11e4-4b10-bb94-09179e3d7aad",
     "showTitle": false,
     "tableResultSettingsMap": {},
     "title": ""
    }
   },
   "outputs": [],
   "source": [
    "%sql\n",
    "select  * from delta.`abfss://gold@projectandstorage.dfs.core.windows.net/fact_model`\n",
    "limit 5;\n"
   ]
  }
 ],
 "metadata": {
  "application/vnd.databricks.v1+notebook": {
   "computePreferences": null,
   "dashboards": [],
   "environmentMetadata": {
    "base_environment": "",
    "environment_version": "2"
   },
   "language": "python",
   "notebookMetadata": {
    "mostRecentlyExecutedCommandWithImplicitDF": {
     "commandId": 8429386153121567,
     "dataframes": [
      "_sqldf"
     ]
    },
    "pythonIndentUnit": 4
   },
   "notebookName": "fact_table_notebook",
   "widgets": {}
  },
  "language_info": {
   "name": "python"
  }
 },
 "nbformat": 4,
 "nbformat_minor": 0
}
